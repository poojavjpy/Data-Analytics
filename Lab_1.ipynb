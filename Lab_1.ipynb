{
  "cells": [
    {
      "cell_type": "markdown",
      "metadata": {
        "id": "view-in-github",
        "colab_type": "text"
      },
      "source": [
        "<a href=\"https://colab.research.google.com/github/poojavjpy/Data-Analytics/blob/main/Lab_1.ipynb\" target=\"_parent\"><img src=\"https://colab.research.google.com/assets/colab-badge.svg\" alt=\"Open In Colab\"/></a>"
      ]
    },
    {
      "cell_type": "markdown",
      "metadata": {
        "id": "QK5LbElIDyEF"
      },
      "source": [
        "### ***Print Command***"
      ]
    },
    {
      "cell_type": "code",
      "execution_count": null,
      "metadata": {
        "colab": {
          "base_uri": "https://localhost:8080/"
        },
        "id": "XCgsvkPw1lpD",
        "outputId": "b5d84dfc-ca97-4b04-b15f-c2afbe42ab68"
      },
      "outputs": [
        {
          "name": "stdout",
          "output_type": "stream",
          "text": [
            "hello, Welcome to First Lab\n"
          ]
        }
      ],
      "source": [
        "print(\"hello, Welcome to First Lab\")   #this command is to print."
      ]
    },
    {
      "cell_type": "markdown",
      "metadata": {
        "id": "Vga6Z7eus-Fx"
      },
      "source": [
        "## ***Variables***"
      ]
    },
    {
      "cell_type": "code",
      "execution_count": null,
      "metadata": {
        "colab": {
          "base_uri": "https://localhost:8080/"
        },
        "id": "teGkrTDc100E",
        "outputId": "69f65e65-e032-4662-919d-f22b1996bb37"
      },
      "outputs": [
        {
          "name": "stdout",
          "output_type": "stream",
          "text": [
            "pooja\n",
            "23.9\n"
          ]
        }
      ],
      "source": [
        "name='pooja'\n",
        "age =23.9\n",
        "\n",
        "print(name)\n",
        "print(age)"
      ]
    },
    {
      "cell_type": "code",
      "execution_count": null,
      "metadata": {
        "colab": {
          "base_uri": "https://localhost:8080/"
        },
        "id": "elmxitQtg0Xg",
        "outputId": "b9f153df-716e-4522-80d0-2a2844acd668"
      },
      "outputs": [
        {
          "name": "stdout",
          "output_type": "stream",
          "text": [
            "priya\n",
            "27\n"
          ]
        }
      ],
      "source": [
        "name=\"payal\"\n",
        "age =23\n",
        "name=\"priya\"\n",
        "age =27\n",
        "print(name)\n",
        "print(age)"
      ]
    },
    {
      "cell_type": "code",
      "execution_count": null,
      "metadata": {
        "colab": {
          "base_uri": "https://localhost:8080/"
        },
        "id": "8_OXWc8chAkT",
        "outputId": "8c3bd7bd-49ef-4729-b067-b2e3ebe65098"
      },
      "outputs": [
        {
          "name": "stdout",
          "output_type": "stream",
          "text": [
            "payal sharma\n",
            "19\n",
            "True\n"
          ]
        }
      ],
      "source": [
        "first_name=\"payal\"\n",
        "last_name= \"sharma\"\n",
        "age= 19\n",
        "is_adult=True\n",
        "print(first_name,last_name)\n",
        "#printlast_name)\n",
        "print(age)\n",
        "print(is_adult)"
      ]
    },
    {
      "cell_type": "markdown",
      "metadata": {
        "id": "fuuqgoEPjxqw"
      },
      "source": [
        "## ***Taking Input from user***"
      ]
    },
    {
      "cell_type": "code",
      "execution_count": null,
      "metadata": {
        "colab": {
          "base_uri": "https://localhost:8080/"
        },
        "id": "7CodKmQoh33e",
        "outputId": "2e88a75e-2f8c-4b8a-8376-2603c9807d0b"
      },
      "outputs": [
        {
          "name": "stdout",
          "output_type": "stream",
          "text": [
            "whats your name  ? pooja\n",
            " hello pooja\n"
          ]
        }
      ],
      "source": [
        "name= input(\"whats your name  ? \")\n",
        "print(\" hello\" , name)"
      ]
    },
    {
      "cell_type": "markdown",
      "metadata": {
        "id": "w1I1FSxdjfpR"
      },
      "source": [
        "### ***Arithmetic Operators***"
      ]
    },
    {
      "cell_type": "code",
      "execution_count": null,
      "metadata": {
        "colab": {
          "base_uri": "https://localhost:8080/"
        },
        "id": "edpRvF8ujvjb",
        "outputId": "4c2c6bd8-4a6e-4b08-fa95-ad05a2053bcf"
      },
      "outputs": [
        {
          "name": "stdout",
          "output_type": "stream",
          "text": [
            "15\n",
            "3\n",
            "54\n",
            "1.5\n",
            "1\n",
            "3\n",
            "8\n"
          ]
        }
      ],
      "source": [
        "print(9+6)\n",
        "print(9-6)\n",
        "print(9*6)\n",
        "print(9/6)\n",
        "print(9//6)\n",
        "print(9%6)\n",
        "print(2**3)"
      ]
    },
    {
      "cell_type": "code",
      "execution_count": null,
      "metadata": {
        "colab": {
          "base_uri": "https://localhost:8080/"
        },
        "id": "zzp32ZJQkmi3",
        "outputId": "a267a0e6-136e-4625-eff3-cab1d9ed92e3"
      },
      "outputs": [
        {
          "name": "stdout",
          "output_type": "stream",
          "text": [
            "12\n",
            "14\n",
            "12\n",
            "24\n"
          ]
        }
      ],
      "source": [
        "i=5\n",
        "i=i+7\n",
        "print(i)\n",
        "i +=2\n",
        "print(i)\n",
        "i -=2\n",
        "print(i)\n",
        "i *=2\n",
        "print(i)"
      ]
    },
    {
      "cell_type": "markdown",
      "metadata": {
        "id": "1ncuhbEvlY03"
      },
      "source": [
        "### ***Operator Precedence***"
      ]
    },
    {
      "cell_type": "code",
      "execution_count": null,
      "metadata": {
        "colab": {
          "base_uri": "https://localhost:8080/"
        },
        "id": "Op1xFtkclGGg",
        "outputId": "e2da2291-daf0-4139-a26d-265df140dad0"
      },
      "outputs": [
        {
          "name": "stdout",
          "output_type": "stream",
          "text": [
            "13\n",
            "16\n"
          ]
        }
      ],
      "source": [
        "result = 3+5*2\n",
        "print(result)\n",
        "result = (3+5)*2\n",
        "print(result)"
      ]
    },
    {
      "cell_type": "markdown",
      "metadata": {
        "id": "HfuwcNUbmPE0"
      },
      "source": [
        "### ***Comparision Operator***"
      ]
    },
    {
      "cell_type": "code",
      "execution_count": null,
      "metadata": {
        "colab": {
          "base_uri": "https://localhost:8080/"
        },
        "id": "q24BgFp8mVQY",
        "outputId": "a5ffc4d4-1241-4582-8a01-739adc095db0"
      },
      "outputs": [
        {
          "name": "stdout",
          "output_type": "stream",
          "text": [
            "False\n",
            "True\n",
            "False\n",
            "True\n"
          ]
        }
      ],
      "source": [
        "print(3>8)\n",
        "print(3<=8)\n",
        "print(3==8)\n",
        "print(3!=8)"
      ]
    },
    {
      "cell_type": "markdown",
      "metadata": {
        "id": "zQZDFW39mkqv"
      },
      "source": [
        "### ***Logical Operator***\n",
        "\n",
        "\n"
      ]
    },
    {
      "cell_type": "code",
      "execution_count": null,
      "metadata": {
        "colab": {
          "base_uri": "https://localhost:8080/"
        },
        "id": "PcQcYegHmwSr",
        "outputId": "b1764675-2ef4-4e8a-a843-5e14b7e80e12"
      },
      "outputs": [
        {
          "name": "stdout",
          "output_type": "stream",
          "text": [
            "False\n",
            "True\n",
            "True\n"
          ]
        }
      ],
      "source": [
        "print(3>2 and 1>10)\n",
        "print(3>2 or 1>10)\n",
        "print(not 1>10)"
      ]
    },
    {
      "cell_type": "markdown",
      "metadata": {
        "id": "fT_nawtYutD6"
      },
      "source": [
        "### ***Data Types   : int, float, str, boolean***"
      ]
    },
    {
      "cell_type": "code",
      "execution_count": null,
      "metadata": {
        "colab": {
          "base_uri": "https://localhost:8080/"
        },
        "id": "5Jl_yZO1omwA",
        "outputId": "aa65a64d-995b-4d58-a64c-5cd458e0b0b5"
      },
      "outputs": [
        {
          "name": "stdout",
          "output_type": "stream",
          "text": [
            "32\n"
          ]
        }
      ],
      "source": [
        "age=29\n",
        "new_age = age+3\n",
        "print(new_age)"
      ]
    },
    {
      "cell_type": "code",
      "execution_count": null,
      "metadata": {
        "colab": {
          "base_uri": "https://localhost:8080/"
        },
        "id": "wvH9L7xxo64C",
        "outputId": "70528c2b-aaae-4ddd-881e-ab686a07f056"
      },
      "outputs": [
        {
          "output_type": "stream",
          "name": "stdout",
          "text": [
            "enter your age  33\n",
            "36\n"
          ]
        }
      ],
      "source": [
        "age= input(\"enter your age  \") #Typecasting\n",
        "new_age=  int (age) + 3\n",
        "print(new_age)"
      ]
    },
    {
      "cell_type": "code",
      "execution_count": null,
      "metadata": {
        "colab": {
          "base_uri": "https://localhost:8080/"
        },
        "id": "D9tiRUsSsf2B",
        "outputId": "189bb053-14ea-45db-b63e-1521c671e8f7"
      },
      "outputs": [
        {
          "name": "stdout",
          "output_type": "stream",
          "text": [
            "45\n"
          ]
        }
      ],
      "source": [
        "number=45\n",
        "float(number)\n",
        "print(number)"
      ]
    },
    {
      "cell_type": "code",
      "execution_count": null,
      "metadata": {
        "colab": {
          "base_uri": "https://localhost:8080/"
        },
        "id": "vgzdNN-fsnZN",
        "outputId": "30a3562c-3a33-4ac7-d1a8-46c84f91d41e"
      },
      "outputs": [
        {
          "name": "stdout",
          "output_type": "stream",
          "text": [
            "90.0\n"
          ]
        }
      ],
      "source": [
        "num=number+float(number)\n",
        "print(num)"
      ]
    },
    {
      "cell_type": "markdown",
      "metadata": {
        "id": "twR70yCJm7MP"
      },
      "source": [
        "### ***This is first program***"
      ]
    },
    {
      "cell_type": "code",
      "execution_count": null,
      "metadata": {
        "colab": {
          "base_uri": "https://localhost:8080/"
        },
        "id": "BcyCzaB3t50C",
        "outputId": "9a2f365e-0398-4aaa-e9f8-1bd60849fc1c"
      },
      "outputs": [
        {
          "output_type": "stream",
          "name": "stdout",
          "text": [
            "first number  3\n",
            "second number  5\n",
            "sum is : 35\n"
          ]
        }
      ],
      "source": [
        "first_num=input(\"first number  \")\n",
        "second_num=input(\"second number  \")\n",
        "\n",
        "sum=first_num+second_num\n",
        "#print(sum)\n",
        "print(\"sum is : \" + sum)"
      ]
    },
    {
      "cell_type": "code",
      "execution_count": null,
      "metadata": {
        "colab": {
          "base_uri": "https://localhost:8080/"
        },
        "id": "X7EWwis5ug4N",
        "outputId": "35bb4e05-ed30-4286-92b1-62991858483e"
      },
      "outputs": [
        {
          "output_type": "stream",
          "name": "stdout",
          "text": [
            "first number  3\n",
            "second number  3\n",
            "sum is : 6\n"
          ]
        }
      ],
      "source": [
        "first_num=input(\"first number  \")\n",
        "second_num=input(\"second number  \")\n",
        "\n",
        "sum=int (first_num) + int (second_num)\n",
        "#print(sum)\n",
        "#print(\"sum is : \" + sum)\n",
        "print(\"sum is : \" + str (sum))"
      ]
    },
    {
      "cell_type": "markdown",
      "metadata": {
        "id": "lpoq6RC01FPi"
      },
      "source": [
        "### ***Operation on String***"
      ]
    },
    {
      "cell_type": "code",
      "execution_count": null,
      "metadata": {
        "colab": {
          "base_uri": "https://localhost:8080/"
        },
        "id": "ye4RLhjVuzhg",
        "outputId": "04602d87-3175-45a9-d999-1b2c78508d11"
      },
      "outputs": [
        {
          "output_type": "stream",
          "name": "stdout",
          "text": [
            "Pooja Vajpayee\n"
          ]
        }
      ],
      "source": [
        "name= \"Pooja Vajpayee\"\n",
        "print(name)"
      ]
    },
    {
      "cell_type": "code",
      "execution_count": null,
      "metadata": {
        "colab": {
          "base_uri": "https://localhost:8080/"
        },
        "id": "9xa7Vl4bwNRz",
        "outputId": "648e3f65-d0c3-4069-aa05-514d623cb7b4"
      },
      "outputs": [
        {
          "output_type": "stream",
          "name": "stdout",
          "text": [
            "POOJA VAJPAYEE\n"
          ]
        }
      ],
      "source": [
        "print(name.upper())"
      ]
    },
    {
      "cell_type": "code",
      "execution_count": null,
      "metadata": {
        "colab": {
          "base_uri": "https://localhost:8080/"
        },
        "id": "0epvbOpqwSim",
        "outputId": "80ef6973-56cb-4d64-ba84-15be1fe216bc"
      },
      "outputs": [
        {
          "output_type": "stream",
          "name": "stdout",
          "text": [
            "pooja vajpayee\n"
          ]
        }
      ],
      "source": [
        "print(name.lower())"
      ]
    },
    {
      "cell_type": "code",
      "execution_count": null,
      "metadata": {
        "colab": {
          "base_uri": "https://localhost:8080/"
        },
        "id": "SopEoDvywfvj",
        "outputId": "7a2f3317-edb9-40de-c710-6dc40e72f910"
      },
      "outputs": [
        {
          "output_type": "stream",
          "name": "stdout",
          "text": [
            "4\n"
          ]
        }
      ],
      "source": [
        "print(name.find('a')) #return location starting from 0."
      ]
    },
    {
      "cell_type": "code",
      "execution_count": null,
      "metadata": {
        "colab": {
          "base_uri": "https://localhost:8080/"
        },
        "id": "VUu1sw3dzWZJ",
        "outputId": "69115bff-51b4-4948-a4ea-d13ca007ace8"
      },
      "outputs": [
        {
          "output_type": "stream",
          "name": "stdout",
          "text": [
            "-1\n"
          ]
        }
      ],
      "source": [
        "print(name.find('pooja'))"
      ]
    },
    {
      "cell_type": "code",
      "execution_count": null,
      "metadata": {
        "colab": {
          "base_uri": "https://localhost:8080/"
        },
        "id": "EoP5KzMkzaUR",
        "outputId": "92bb376b-8174-4528-bd25-c3a6fc846a66"
      },
      "outputs": [
        {
          "output_type": "stream",
          "name": "stdout",
          "text": [
            "12\n"
          ]
        }
      ],
      "source": [
        "print(name.find('e'))"
      ]
    },
    {
      "cell_type": "code",
      "execution_count": null,
      "metadata": {
        "colab": {
          "base_uri": "https://localhost:8080/"
        },
        "id": "obs9DWqpzNKL",
        "outputId": "819c56e0-143c-4e2b-eeec-354469b642a5"
      },
      "outputs": [
        {
          "output_type": "stream",
          "name": "stdout",
          "text": [
            "6\n"
          ]
        }
      ],
      "source": [
        "print(name.find('Vajpayee'))"
      ]
    },
    {
      "cell_type": "code",
      "execution_count": null,
      "metadata": {
        "colab": {
          "base_uri": "https://localhost:8080/"
        },
        "id": "tSg8UQCNxcD5",
        "outputId": "8ce2cfa1-0cab-4c64-8135-d21b591f17b6"
      },
      "outputs": [
        {
          "output_type": "stream",
          "name": "stdout",
          "text": [
            "Pooja Bajpai\n",
            "Pooja Vajpayee\n"
          ]
        }
      ],
      "source": [
        "print(name.replace(\"Pooja Vajpayee\" , \"Pooja Bajpai\"))\n",
        "print(name)"
      ]
    },
    {
      "cell_type": "code",
      "execution_count": null,
      "metadata": {
        "colab": {
          "base_uri": "https://localhost:8080/"
        },
        "id": "BIk_A78Wxs8h",
        "outputId": "1ee6cf0d-01c0-4320-d57e-e56934db0678"
      },
      "outputs": [
        {
          "output_type": "stream",
          "name": "stdout",
          "text": [
            "Dr. Pooja Vajpayee\n"
          ]
        }
      ],
      "source": [
        "print(name.replace(\"Pooja\" , \"Dr. Pooja\"))"
      ]
    },
    {
      "cell_type": "code",
      "execution_count": null,
      "metadata": {
        "colab": {
          "base_uri": "https://localhost:8080/"
        },
        "id": "_EvNWD08yF30",
        "outputId": "4083c054-139f-45d8-8409-2dff51af803b"
      },
      "outputs": [
        {
          "output_type": "stream",
          "name": "stdout",
          "text": [
            "Pooja Bajpayee\n"
          ]
        }
      ],
      "source": [
        "print(name.replace(\"V\" , \"B\"))"
      ]
    },
    {
      "cell_type": "code",
      "execution_count": null,
      "metadata": {
        "colab": {
          "base_uri": "https://localhost:8080/"
        },
        "id": "tX7LZ2aJyeYZ",
        "outputId": "8c01d796-31b3-4575-f191-f49ff965936f"
      },
      "outputs": [
        {
          "output_type": "stream",
          "name": "stdout",
          "text": [
            "False\n"
          ]
        }
      ],
      "source": [
        "print(\"t\" in name)"
      ]
    },
    {
      "cell_type": "code",
      "execution_count": null,
      "metadata": {
        "colab": {
          "base_uri": "https://localhost:8080/"
        },
        "id": "KmsG8l9hykFd",
        "outputId": "abdea27c-5c32-4701-a9f4-7a980aadb8c7"
      },
      "outputs": [
        {
          "output_type": "stream",
          "name": "stdout",
          "text": [
            "True\n"
          ]
        }
      ],
      "source": [
        "print(\"V\" in name)"
      ]
    }
  ],
  "metadata": {
    "colab": {
      "provenance": [],
      "authorship_tag": "ABX9TyPLehWswDaYMOEC/9Mqe3sJ",
      "include_colab_link": true
    },
    "kernelspec": {
      "display_name": "Python 3",
      "name": "python3"
    },
    "language_info": {
      "name": "python"
    }
  },
  "nbformat": 4,
  "nbformat_minor": 0
}